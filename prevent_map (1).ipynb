{
  "nbformat": 4,
  "nbformat_minor": 0,
  "metadata": {
    "colab": {
      "provenance": []
    },
    "kernelspec": {
      "name": "python3",
      "display_name": "Python 3"
    },
    "language_info": {
      "name": "python"
    }
  },
  "cells": [
    {
      "cell_type": "code",
      "source": [
        "import pandas as pd\n",
        "import joblib"
      ],
      "metadata": {
        "id": "x0IMQ5Hz0ujq"
      },
      "execution_count": 2,
      "outputs": []
    },
    {
      "cell_type": "code",
      "source": [
        "# Load the saved model\n",
        "model_path = '/content/soil_health_model.pkl'\n",
        "rf_classifier = joblib.load(model_path)"
      ],
      "metadata": {
        "colab": {
          "base_uri": "https://localhost:8080/"
        },
        "id": "_2WBYzqa3HEw",
        "outputId": "2a25b6e6-bcfb-4067-8548-51ec1484661d"
      },
      "execution_count": 3,
      "outputs": [
        {
          "output_type": "stream",
          "name": "stderr",
          "text": [
            "/usr/local/lib/python3.10/dist-packages/sklearn/base.py:376: InconsistentVersionWarning: Trying to unpickle estimator DecisionTreeClassifier from version 1.5.1 when using version 1.5.2. This might lead to breaking code or invalid results. Use at your own risk. For more info please refer to:\n",
            "https://scikit-learn.org/stable/model_persistence.html#security-maintainability-limitations\n",
            "  warnings.warn(\n",
            "/usr/local/lib/python3.10/dist-packages/sklearn/base.py:376: InconsistentVersionWarning: Trying to unpickle estimator RandomForestClassifier from version 1.5.1 when using version 1.5.2. This might lead to breaking code or invalid results. Use at your own risk. For more info please refer to:\n",
            "https://scikit-learn.org/stable/model_persistence.html#security-maintainability-limitations\n",
            "  warnings.warn(\n"
          ]
        }
      ]
    },
    {
      "cell_type": "code",
      "source": [
        "# Load the test data (without the 'Output' column)\n",
        "test_file_path = '/content/check_soil_data.csv'  # path to the test CSV file\n",
        "soil_test_data = pd.read_csv(test_file_path)"
      ],
      "metadata": {
        "id": "H6r4gRAA3NeO"
      },
      "execution_count": 4,
      "outputs": []
    },
    {
      "cell_type": "code",
      "source": [
        "# Display the number of rows in the test dataset\n",
        "rowcount = 0\n",
        "for row in open(test_file_path):\n",
        "    rowcount += 1\n",
        "print(\"Number of lines present in test file:\", (rowcount - 1))"
      ],
      "metadata": {
        "colab": {
          "base_uri": "https://localhost:8080/"
        },
        "id": "OTAz0maR3Qpx",
        "outputId": "9f3b6773-5e4a-4c47-c60b-bd56940673d8"
      },
      "execution_count": 5,
      "outputs": [
        {
          "output_type": "stream",
          "name": "stdout",
          "text": [
            "Number of lines present in test file: 10\n"
          ]
        }
      ]
    },
    {
      "cell_type": "code",
      "source": [
        "if 'Output' in soil_test_data.columns:\n",
        "    X_test = soil_test_data.drop(columns=['Output'])\n",
        "else:\n",
        "    X_test = soil_test_data"
      ],
      "metadata": {
        "id": "mQz39CRV3XKr"
      },
      "execution_count": 8,
      "outputs": []
    },
    {
      "cell_type": "code",
      "source": [
        "# Make predictions on the test data\n",
        "rf_predictions = rf_classifier.predict(X_test)"
      ],
      "metadata": {
        "id": "U1zN6MhY3bPS"
      },
      "execution_count": 9,
      "outputs": []
    },
    {
      "cell_type": "code",
      "source": [
        "# Manually map predictions (1 = Non Fertile, 0 = Fertile)\n",
        "label_mapping = {1: 'Non Fertile', 0: 'Fertile'}\n",
        "predicted_labels = [label_mapping[pred] for pred in rf_predictions]\n",
        "\n",
        "print(\"Predicted Labels:\")\n",
        "print(predicted_labels)"
      ],
      "metadata": {
        "colab": {
          "base_uri": "https://localhost:8080/"
        },
        "id": "slX8OJy62B2L",
        "outputId": "b3470695-334e-48f7-dda6-e52b7c6ac8e7"
      },
      "execution_count": 13,
      "outputs": [
        {
          "output_type": "stream",
          "name": "stdout",
          "text": [
            "Predicted Labels:\n",
            "['Non Fertile', 'Fertile', 'Fertile', 'Fertile', 'Fertile', 'Fertile', 'Non Fertile', 'Fertile', 'Fertile', 'Non Fertile']\n"
          ]
        }
      ]
    },
    {
      "cell_type": "code",
      "source": [
        "# Add predictions to the original dataframe\n",
        "soil_test_data['Predicted_Output'] = predicted_labels"
      ],
      "metadata": {
        "id": "d2SN64GZ8PGk"
      },
      "execution_count": 16,
      "outputs": []
    },
    {
      "cell_type": "code",
      "source": [
        "# Filter rows where the predicted label is 'Non Fertile'\n",
        "non_fertile_data = soil_test_data[soil_test_data['Predicted_Output'] == 'Non Fertile']"
      ],
      "metadata": {
        "id": "dTBDcbvT-_25"
      },
      "execution_count": 17,
      "outputs": []
    },
    {
      "cell_type": "code",
      "source": [
        "# Export the non-fertile data to a new CSV file\n",
        "output_file_path = '/content/non_fertile_soil_data.csv'\n",
        "non_fertile_data.to_csv(output_file_path, index=False)\n",
        "\n",
        "print(f\"Non-fertile soil data exported to {output_file_path}\")\n",
        "print(f\"Number of non-fertile soil samples: {len(non_fertile_data)}\")"
      ],
      "metadata": {
        "colab": {
          "base_uri": "https://localhost:8080/"
        },
        "id": "TXdJpz90_D4u",
        "outputId": "c4af0f84-5f6d-4aef-ebef-65b21b98a395"
      },
      "execution_count": 18,
      "outputs": [
        {
          "output_type": "stream",
          "name": "stdout",
          "text": [
            "Non-fertile soil data exported to /content/non_fertile_soil_data.csv\n",
            "Number of non-fertile soil samples: 3\n"
          ]
        }
      ]
    },
    {
      "cell_type": "code",
      "source": [
        "# Load the non-fertile soil data\n",
        "non_fertile_data = pd.read_csv('/content/non_fertile_soil_data.csv')\n",
        "\n",
        "# Load the prevention data\n",
        "prevent_data = pd.read_csv('/content/prevent.csv')"
      ],
      "metadata": {
        "id": "k7PI6t9w_Tmc"
      },
      "execution_count": 97,
      "outputs": []
    },
    {
      "cell_type": "code",
      "source": [
        "def extract_range_values(range_string):\n",
        "    \"\"\"\n",
        "    Splits a range string like '20-50' or '0.2-0.6' into two boundary values (as float or int).\n",
        "    Returns a list of the boundary values.\n",
        "    Handles cases where the range string does not contain a hyphen.\n",
        "    \"\"\"\n",
        "    try:\n",
        "        # Split the range string by '-'\n",
        "        if '-' in range_string:\n",
        "            min_val, max_val = range_string.split('-')\n",
        "            # Convert to float if decimal, else int\n",
        "            min_val = float(min_val.strip()) if '.' in min_val else int(min_val.strip())\n",
        "            max_val = float(max_val.strip()) if '.' in max_val else int(max_val.strip())\n",
        "            return [min_val, max_val]\n",
        "        else:\n",
        "            # Handle cases without a hyphen (e.g., a single value)\n",
        "            # You might want to return a single value or handle it differently based on your needs\n",
        "            # Here, I'm assuming it's a single value and returning it as both min and max\n",
        "            single_val = float(range_string.strip()) if '.' in range_string else int(range_string.strip())\n",
        "            return [single_val, single_val]\n",
        "\n",
        "    except ValueError:\n",
        "        # In case of unexpected format, return an empty list or handle the error\n",
        "        print(f\"Invalid range format: {range_string}\")\n",
        "        # Return (None, None) instead of an empty list\n",
        "        return None, None"
      ],
      "metadata": {
        "id": "9hCEjJSB18Zi"
      },
      "execution_count": 98,
      "outputs": []
    },
    {
      "cell_type": "code",
      "source": [
        "# Function to convert threshold strings to numeric ranges\n",
        "def extract_range(threshold_str):\n",
        "    try:\n",
        "        numbers = [float(x) for x in threshold_str.replace(',', '').split() if x.replace('.', '').isdigit()]\n",
        "        return min(numbers), max(numbers)\n",
        "    except:\n",
        "        return None, None"
      ],
      "metadata": {
        "id": "WafeZCHd2J0f"
      },
      "execution_count": 90,
      "outputs": []
    },
    {
      "cell_type": "code",
      "source": [
        "# Function to check if a value is within a range\n",
        "def is_within_range(value, range_min, range_max):\n",
        "    return range_min <= value <= range_max if range_min is not None and range_max is not None else False"
      ],
      "metadata": {
        "id": "dmq6w3DDzJFY"
      },
      "execution_count": 99,
      "outputs": []
    },
    {
      "cell_type": "code",
      "source": [
        "# List of all properties to check\n",
        "properties = ['pH', 'EC', 'OC', 'OM', 'N', 'P', 'K', 'Zn', 'Fe', 'Cu', 'Mn', 'Sand', 'Silt', 'Clay', 'CaCO3', 'CEC', 'Temperature', 'Humidity']"
      ],
      "metadata": {
        "id": "qUxAJjHL2bYS"
      },
      "execution_count": 100,
      "outputs": []
    },
    {
      "cell_type": "code",
      "source": [
        "# Prepare a list to store results\n",
        "results = []\n",
        "\n",
        "# Process each row in the non-fertile soil data\n",
        "for index, soil_row in non_fertile_data.iterrows():\n",
        "    for property_name in properties:\n",
        "        if property_name in soil_row.index and property_name in prevent_data['Property'].values:\n",
        "            value = soil_row[property_name]\n",
        "            prevent_row = prevent_data[prevent_data['Property'] == property_name].iloc[0]\n",
        "            range_min, range_max = extract_range_values(prevent_row['Threshold Value (Typical Range)'])\n",
        "\n",
        "            if not is_within_range(value, range_min, range_max):\n",
        "                results.append({\n",
        "                    'Soil Sample ID': index + 1,\n",
        "                    'Property': property_name,\n",
        "                    'Value': value,\n",
        "                    'Threshold Range': prevent_row['Threshold Value (Typical Range)'],\n",
        "                    'Organic Prevention Methods': prevent_row['Organic Prevention Methods'],\n",
        "                    'Commercial Products': prevent_row['Commercial Products'],\n",
        "                    'Remarks': prevent_row['Remarks']\n",
        "                })"
      ],
      "metadata": {
        "id": "09qAJsKJzLHm"
      },
      "execution_count": 104,
      "outputs": []
    },
    {
      "cell_type": "code",
      "source": [
        "# Convert results to DataFrame\n",
        "results_df = pd.DataFrame(results)"
      ],
      "metadata": {
        "id": "G9mnYKN8zRr9"
      },
      "execution_count": 105,
      "outputs": []
    },
    {
      "cell_type": "code",
      "source": [
        "# Save results to CSV\n",
        "results_df.to_csv('soil_analysis_result.csv', index=False)\n",
        "\n",
        "print(\"Analysis complete. Results have been saved to 'soil_analysis_results.csv'.\")\n",
        "print(f\"Total out-of-range properties found: {len(results_df)}\")"
      ],
      "metadata": {
        "colab": {
          "base_uri": "https://localhost:8080/"
        },
        "id": "pKszkaezzUwm",
        "outputId": "41d47600-ff8b-4555-bd23-25553019a56e"
      },
      "execution_count": 106,
      "outputs": [
        {
          "output_type": "stream",
          "name": "stdout",
          "text": [
            "Analysis complete. Results have been saved to 'soil_analysis_results.csv'.\n",
            "Total out-of-range properties found: 4\n"
          ]
        }
      ]
    }
  ]
}